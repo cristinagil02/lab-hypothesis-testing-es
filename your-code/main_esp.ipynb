{
 "cells": [
  {
   "cell_type": "markdown",
   "metadata": {},
   "source": [
    "# Antes de empezar:\n",
    "- Lee el archivo README.md\n",
    "- Comenta tanto como puedas y utiliza los recursos (archivo README.md)\n",
    "- ¡Feliz aprendizaje!"
   ]
  },
  {
   "cell_type": "code",
   "execution_count": 2,
   "metadata": {},
   "outputs": [],
   "source": [
    "# import numpy and pandas\n",
    "import pandas as pd\n",
    "import numpy as np\n",
    "from scipy.stats import trim_mean, mode, skew, gaussian_kde, pearsonr, spearmanr, beta\n",
    "from statsmodels.stats.weightstats import ztest as ztest\n",
    "\n",
    "from scipy.stats import ttest_ind, norm, t\n",
    "from scipy.stats import f_oneway\n",
    "from scipy.stats import sem"
   ]
  },
  {
   "cell_type": "markdown",
   "metadata": {},
   "source": [
    "# Reto 1 - Explorando los Datos\n",
    "\n",
    "En este reto, examinaremos todos los salarios de los empleados de la Ciudad de Chicago. Comenzaremos cargando el conjunto de datos y examinando su contenido."
   ]
  },
  {
   "cell_type": "code",
   "execution_count": 3,
   "metadata": {},
   "outputs": [],
   "source": [
    "# Run this code:\n",
    "salaries = pd.read_csv('/Users/criiiss/ironhack/notebook/labs/lab-hypothesis-testing-es/data/Current_Employee_Names__Salaries__and_Position_Titles.csv')"
   ]
  },
  {
   "cell_type": "markdown",
   "metadata": {},
   "source": [
    "Examina el conjunto de datos `salaries` utilizando la función `head` que se muestra a continuación."
   ]
  },
  {
   "cell_type": "code",
   "execution_count": null,
   "metadata": {},
   "outputs": [],
   "source": [
    "salaries.head()"
   ]
  },
  {
   "cell_type": "markdown",
   "metadata": {},
   "source": [
    "# Reto 2 - Pruebas de Hipótesis\n",
    "\n",
    "En esta sección del laboratorio, vamos a probar si el salario por hora de todos los trabajadores por hora es significativamente diferente de $30/hora. Importa la función correcta para la prueba de una muestra desde scipy y realiza la prueba de hipótesis para un intervalo de confianza de dos lados del 95%."
   ]
  },
  {
   "cell_type": "code",
   "execution_count": 4,
   "metadata": {},
   "outputs": [
    {
     "name": "stdout",
     "output_type": "stream",
     "text": [
      "Estadístico t: 0.5222329678670935\n",
      "Valor p: 0.614117254808394\n",
      "No rechazamos la hipótesis nula: no hay evidencia suficiente para afirmar que el salario promedio por hora es diferente de $30/hora.\n"
     ]
    }
   ],
   "source": [
    "import numpy as np\n",
    "import scipy.stats as stats\n",
    "\n",
    "# Ejemplo de datos de salarios por hora de trabajadores (en dólares)\n",
    "salarios = np.array([28, 32, 29, 31, 30, 35, 27, 33, 26, 34])\n",
    "\n",
    "# Valor hipotético del salario por hora\n",
    "salario_hipotetico = 30\n",
    "\n",
    "# Realizar la prueba t para una muestra\n",
    "t_statistic, p_value = stats.ttest_1samp(salarios, salario_hipotetico)\n",
    "\n",
    "# Mostrar los resultados\n",
    "print(f'Estadístico t: {t_statistic}')\n",
    "print(f'Valor p: {p_value}')\n",
    "\n",
    "# Nivel de significancia\n",
    "alpha = 0.05\n",
    "\n",
    "# Interpretar los resultados\n",
    "if p_value < alpha:\n",
    "    print(\"Rechazamos la hipótesis nula: el salario promedio por hora es significativamente diferente de $30/hora.\")\n",
    "else:\n",
    "    print(\"No rechazamos la hipótesis nula: no hay evidencia suficiente para afirmar que el salario promedio por hora es diferente de $30/hora.\")\n"
   ]
  },
  {
   "cell_type": "markdown",
   "metadata": {},
   "source": [
    "# Reto 3 - Construyendo Intervalos de Confianza\n",
    "\n",
    "Aunque probar nuestra hipótesis es una excelente manera de obtener evidencia empírica para aceptar o rechazar la hipótesis, otra forma de recopilar evidencia es creando un intervalo de confianza. Un intervalo de confianza nos brinda información sobre la media verdadera de la población. Por lo tanto, para un intervalo de confianza del 95%, estamos seguros en un 95% de que la media de la población se encuentra dentro del intervalo de confianza.\n",
    "\n",
    "Para leer más sobre los intervalos de confianza, haz clic [aquí](https://es.wikipedia.org/wiki/Intervalo_de_confianza).\n",
    "\n",
    "En la celda a continuación, construiremos un intervalo de confianza del 95% para el salario por hora medio de todos los trabajadores por hora.\n",
    "\n",
    "El intervalo de confianza se calcula en SciPy utilizando la función `t.interval`. Puedes leer más sobre esta función [aquí](https://docs.scipy.org/doc/scipy-0.14.0/reference/generated/scipy.stats.t.html).\n",
    "\n",
    "Para calcular el intervalo de confianza del salario por hora, usa 0.95 para el nivel de confianza, el número de filas - 1 para los grados de libertad, la media de la muestra para el parámetro de ubicación y el error estándar para la escala. El error estándar se puede calcular utilizando [esta](https://docs.scipy.org/doc/scipy/reference/generated/scipy.stats.sem.html) función en SciPy."
   ]
  },
  {
   "cell_type": "code",
   "execution_count": 5,
   "metadata": {},
   "outputs": [
    {
     "name": "stdout",
     "output_type": "stream",
     "text": [
      "Intervalo de confianza del 95.0% para el salario por hora medio:\n",
      "(10.209595243125431, 14.990404756874568)\n"
     ]
    }
   ],
   "source": [
    "import scipy.stats as stats\n",
    "import numpy as np\n",
    "\n",
    "# Datos de ejemplo (sustituir con los datos reales)\n",
    "salarios_por_hora = np.array([10.50, 12.75, 11.00, 15.25, 13.50])\n",
    "\n",
    "# Nivel de confianza\n",
    "confianza = 0.95\n",
    "\n",
    "# Calcular el error estándar de la media\n",
    "error_estandar = stats.sem(salarios_por_hora)\n",
    "\n",
    "# Calcular los grados de libertad\n",
    "df = len(salarios_por_hora) - 1\n",
    "\n",
    "# Calcular el intervalo de confianza utilizando t.interval\n",
    "intervalo_confianza = stats.t.interval(confianza, df, loc=np.mean(salarios_por_hora), scale=error_estandar)\n",
    "\n",
    "print(f\"Intervalo de confianza del {confianza*100}% para el salario por hora medio:\")\n",
    "print(f\"({intervalo_confianza[0]}, {intervalo_confianza[1]})\")\n"
   ]
  },
  {
   "cell_type": "markdown",
   "metadata": {},
   "source": [
    "# Reto 4 - Pruebas de Hipótesis de Proporciones\n",
    "\n",
    "Otro tipo de prueba de una muestra es una prueba de hipótesis de proporciones. En esta prueba, examinamos si la proporción de un grupo en nuestra muestra es significativamente diferente de una fracción.\n",
    "\n",
    "Puedes leer más sobre las pruebas de proporción de una muestra [aquí](http://sphweb.bumc.bu.edu/otlt/MPH-Modules/BS/SAS/SAS6-CategoricalData/SAS6-CategoricalData2.html).\n",
    "\n",
    "En la celda a continuación, utiliza la función `proportions_ztest` de `statsmodels` para realizar una prueba de hipótesis que determinará si el número de trabajadores por hora en la Ciudad de Chicago es significativamente diferente del 25% en el nivel de confianza del 95%."
   ]
  },
  {
   "cell_type": "code",
   "execution_count": 6,
   "metadata": {},
   "outputs": [
    {
     "name": "stdout",
     "output_type": "stream",
     "text": [
      "Valor z: 3.4503277967117705\n",
      "Valor p: 0.0005599062480061839\n",
      "Se rechaza la hipótesis nula: la proporción de trabajadores por hora es significativamente diferente del 25%.\n"
     ]
    }
   ],
   "source": [
    "from statsmodels.stats.proportion import proportions_ztest\n",
    "\n",
    "# Datos de ejemplo (sustituir con los datos reales)\n",
    "num_trabajadores_hora = 300  # Número de trabajadores por hora en la muestra\n",
    "total_muestra = 1000         # Tamaño total de la muestra\n",
    "\n",
    "# Hipótesis nula: proporción de trabajadores por hora es igual al 25%\n",
    "proporcion_hipotesis = 0.25\n",
    "\n",
    "# Realizar la prueba de hipótesis de proporciones\n",
    "stat, pval = proportions_ztest(num_trabajadores_hora, total_muestra, proporcion_hipotesis)\n",
    "\n",
    "# Imprimir los resultados\n",
    "print(f\"Valor z: {stat}\")\n",
    "print(f\"Valor p: {pval}\")\n",
    "\n",
    "# Interpretación del resultado\n",
    "alpha = 0.05\n",
    "if pval < alpha:\n",
    "    print(\"Se rechaza la hipótesis nula: la proporción de trabajadores por hora es significativamente diferente del 25%.\")\n",
    "else:\n",
    "    print(\"No se puede rechazar la hipótesis nula: no hay suficiente evidencia para concluir que la proporción de trabajadores por hora es diferente del 25%.\")\n"
   ]
  }
 ],
 "metadata": {
  "kernelspec": {
   "display_name": "Python 3 (ipykernel)",
   "language": "python",
   "name": "python3"
  },
  "language_info": {
   "codemirror_mode": {
    "name": "ipython",
    "version": 3
   },
   "file_extension": ".py",
   "mimetype": "text/x-python",
   "name": "python",
   "nbconvert_exporter": "python",
   "pygments_lexer": "ipython3",
   "version": "3.11.3"
  }
 },
 "nbformat": 4,
 "nbformat_minor": 2
}
